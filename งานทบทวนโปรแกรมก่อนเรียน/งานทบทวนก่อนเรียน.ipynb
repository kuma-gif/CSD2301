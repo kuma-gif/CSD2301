{
  "nbformat": 4,
  "nbformat_minor": 0,
  "metadata": {
    "colab": {
      "provenance": []
    },
    "kernelspec": {
      "name": "python3",
      "display_name": "Python 3"
    },
    "language_info": {
      "name": "python"
    }
  },
  "cells": [
    {
      "cell_type": "code",
      "source": [
        "numeric1 = 5\n",
        "print(numeric1)\n",
        "print(type(numeric1))"
      ],
      "metadata": {
        "colab": {
          "base_uri": "https://localhost:8080/"
        },
        "id": "CjLJF1HDBYWu",
        "outputId": "c5a54db6-b1d6-42ff-a29f-ca00c0cb2978"
      },
      "execution_count": null,
      "outputs": [
        {
          "output_type": "stream",
          "name": "stdout",
          "text": [
            "5\n",
            "<class 'int'>\n"
          ]
        }
      ]
    },
    {
      "cell_type": "code",
      "source": [
        "numeric2 = -3\n",
        "print(numeric2)\n",
        "print(type(numeric2))"
      ],
      "metadata": {
        "colab": {
          "base_uri": "https://localhost:8080/"
        },
        "id": "zpwzw0rTBa4m",
        "outputId": "7e1368ef-2363-43ff-c866-4a920bb6dbfc"
      },
      "execution_count": null,
      "outputs": [
        {
          "output_type": "stream",
          "name": "stdout",
          "text": [
            "-3\n",
            "<class 'int'>\n"
          ]
        }
      ]
    },
    {
      "cell_type": "code",
      "source": [
        "numeric3 = 0\n",
        "print(numeric3)\n",
        "print(type(numeric3))\n"
      ],
      "metadata": {
        "id": "fVH2A72mBa-F"
      },
      "execution_count": null,
      "outputs": []
    },
    {
      "cell_type": "code",
      "source": [
        "numeric4 = int(input('Please insert integer: '))\n",
        "print(numeric4)\n",
        "print(type(numeric4))"
      ],
      "metadata": {
        "id": "8PcqQuNBBbAn"
      },
      "execution_count": null,
      "outputs": []
    },
    {
      "cell_type": "code",
      "source": [
        "numeric1 = 5.0\n",
        "print(numeric1)\n",
        "print(type(numeric1))"
      ],
      "metadata": {
        "id": "R7jHLCCqCaDP"
      },
      "execution_count": null,
      "outputs": []
    },
    {
      "cell_type": "code",
      "source": [
        "numeric2 = -3.1\n",
        "print(numeric2)\n",
        "print(type(numeric2))"
      ],
      "metadata": {
        "id": "UQ-bEG5JCf2t"
      },
      "execution_count": null,
      "outputs": []
    },
    {
      "cell_type": "code",
      "source": [
        "numeric3 = 0.0\n",
        "print(numeric3)\n",
        "print(type(numeric3))"
      ],
      "metadata": {
        "id": "__WMWBUfChh4"
      },
      "execution_count": null,
      "outputs": []
    },
    {
      "cell_type": "code",
      "source": [
        "numeric4 = float(input('Please insert floating number: '))\n",
        "print(numeric4)\n",
        "print(type(numeric4))"
      ],
      "metadata": {
        "colab": {
          "base_uri": "https://localhost:8080/"
        },
        "id": "jbujAzs2Cjdc",
        "outputId": "78a64682-10b6-4262-e17f-f47736031f14"
      },
      "execution_count": null,
      "outputs": [
        {
          "output_type": "stream",
          "name": "stdout",
          "text": [
            "Please insert floating number: 12\n",
            "12.0\n",
            "<class 'float'>\n"
          ]
        }
      ]
    },
    {
      "cell_type": "code",
      "execution_count": null,
      "metadata": {
        "colab": {
          "base_uri": "https://localhost:8080/"
        },
        "collapsed": true,
        "id": "YGIOf4EXA6i2",
        "outputId": "290e6b67-fb2d-49fe-96e7-d2380935e9e5"
      },
      "outputs": [
        {
          "output_type": "stream",
          "name": "stdout",
          "text": [
            "Please insert int1: 1\n",
            "Please insert int2: 2\n",
            "int1: 1 <class 'int'>\n",
            "int2: 2 <class 'int'>\n",
            "sum: 3 <class 'int'>\n",
            "difference: -1 <class 'int'>\n",
            "product: 2 <class 'int'>\n"
          ]
        }
      ],
      "source": [
        "int1 = int(input('Please insert int1: '))\n",
        "int2 = int(input('Please insert int2: '))\n",
        "print('int1:', int1, type(int1))\n",
        "print('int2:', int2, type(int2))\n",
        "a = int1 + int2\n",
        "print('sum:', a, type(a))\n",
        "b = int1 - int2\n",
        "print('difference:', b, type(b))\n",
        "c = int1*int2\n",
        "print('product:', c, type(c))\n"
      ]
    },
    {
      "cell_type": "code",
      "source": [],
      "metadata": {
        "id": "4abb2DS4Ddmz"
      },
      "execution_count": null,
      "outputs": []
    },
    {
      "cell_type": "code",
      "source": [
        "int1 = int(input('Please insert int1: '))\n",
        "float1 = float(input('Please insert float1: '))\n",
        "print('int1:', int1, type(int1))\n",
        "print('float1:', float1, type(float1))\n",
        "a = int1 + float1\n",
        "print('sum:', a, type(a))\n",
        "b = int1 - float1\n",
        "print('difference:', b, type(b))\n",
        "c = int1*float1\n",
        "print('product:', c, type(c))\n",
        "d = int1/float1\n",
        "print('quotient:', d, type(d))"
      ],
      "metadata": {
        "colab": {
          "base_uri": "https://localhost:8080/"
        },
        "id": "Q-Wm08ecBpSU",
        "outputId": "8740f82c-a111-4321-f3b4-b558ad41328c"
      },
      "execution_count": null,
      "outputs": [
        {
          "output_type": "stream",
          "name": "stdout",
          "text": [
            "Please insert int1: 2\n",
            "Please insert float1: 1\n",
            "int1: 2 <class 'int'>\n",
            "float1: 1.0 <class 'float'>\n",
            "sum: 3.0 <class 'float'>\n",
            "difference: 1.0 <class 'float'>\n",
            "product: 2.0 <class 'float'>\n",
            "quotient: 2.0 <class 'float'>\n"
          ]
        }
      ]
    },
    {
      "cell_type": "code",
      "source": [
        "float1 = float(input('Please insert float1: '))\n",
        "float2 = float(input('Please insert float2: '))\n",
        "print('float1:', float1, type(float1))\n",
        "print('float2:', float2, type(float2))\n",
        "a = float1 + float2\n",
        "print('sum', a, type(a))\n",
        "b = float1 - float2\n",
        "print('difference', b, type(b))\n",
        "c = float1*float2\n",
        "print('product', c, type(c))\n",
        "d = float1/float2\n",
        "print('quotient', d, type(d))"
      ],
      "metadata": {
        "colab": {
          "base_uri": "https://localhost:8080/"
        },
        "id": "jMjAaO_2Dl7L",
        "outputId": "8152b55a-11d2-4614-d889-9888245f6e10"
      },
      "execution_count": null,
      "outputs": [
        {
          "output_type": "stream",
          "name": "stdout",
          "text": [
            "Please insert float1: 5\n",
            "Please insert float2: 6\n",
            "float1: 5.0 <class 'float'>\n",
            "float2: 6.0 <class 'float'>\n",
            "sum 11.0 <class 'float'>\n",
            "difference -1.0 <class 'float'>\n",
            "product 30.0 <class 'float'>\n",
            "quotient 0.8333333333333334 <class 'float'>\n"
          ]
        }
      ]
    },
    {
      "cell_type": "code",
      "source": [
        "int1 = int(input('Please insert int1: '))\n",
        "float1 = float(input('Please insert float1: '))\n",
        "print('int1:', int1, type(int1))\n",
        "print('float1:', float1, type(float1))\n",
        "a = int1 + float1\n",
        "print('sum:', a, type(a))\n",
        "b = int1 - float1\n",
        "print('difference:', b, type(b))\n",
        "c = int1*float1\n",
        "print('product:', c, type(c))\n",
        "d = int1/float1\n",
        "print('quotient:', d, type(d))"
      ],
      "metadata": {
        "id": "RB1ZH7laEMk9"
      },
      "execution_count": null,
      "outputs": []
    },
    {
      "cell_type": "code",
      "source": [
        "logic1 = True\n",
        "print(logic1)\n",
        "print(type(logic1))"
      ],
      "metadata": {
        "id": "vq2SZq5sEUbp"
      },
      "execution_count": null,
      "outputs": []
    },
    {
      "cell_type": "code",
      "source": [
        "logic2 = False\n",
        "print(logic2)\n",
        "print(type(logic2))"
      ],
      "metadata": {
        "colab": {
          "base_uri": "https://localhost:8080/"
        },
        "id": "MhsvfcTUEUeP",
        "outputId": "20a6a617-eb78-493c-ce28-28d63eb42856"
      },
      "execution_count": null,
      "outputs": [
        {
          "output_type": "stream",
          "name": "stdout",
          "text": [
            "False\n",
            "<class 'bool'>\n"
          ]
        }
      ]
    },
    {
      "cell_type": "code",
      "source": [
        "logic1 = True\n",
        "logic2 = False\n",
        "print((logic1 and logic2))"
      ],
      "metadata": {
        "colab": {
          "base_uri": "https://localhost:8080/"
        },
        "id": "Ddj_qO8FEUgv",
        "outputId": "faf9e0fb-87fc-4e01-fa50-3ae9c5bba594"
      },
      "execution_count": null,
      "outputs": [
        {
          "output_type": "stream",
          "name": "stdout",
          "text": [
            "False\n"
          ]
        }
      ]
    },
    {
      "cell_type": "code",
      "source": [
        "logic1 = True\n",
        "logic2 = False\n",
        "print((logic1 or logic2))"
      ],
      "metadata": {
        "colab": {
          "base_uri": "https://localhost:8080/"
        },
        "id": "33N-rtzSEUjP",
        "outputId": "595f47f8-9b89-46f3-b9a4-86e957d559d3"
      },
      "execution_count": null,
      "outputs": [
        {
          "output_type": "stream",
          "name": "stdout",
          "text": [
            "True\n"
          ]
        }
      ]
    },
    {
      "cell_type": "code",
      "source": [
        "complex1 = 1 + 2j\n",
        "print(complex1)\n",
        "print(type(complex1))"
      ],
      "metadata": {
        "colab": {
          "base_uri": "https://localhost:8080/"
        },
        "id": "NiivbrvpEUll",
        "outputId": "37f36149-1ff4-4296-e159-be982b4625c3"
      },
      "execution_count": null,
      "outputs": [
        {
          "output_type": "stream",
          "name": "stdout",
          "text": [
            "(1+2j)\n",
            "<class 'complex'>\n"
          ]
        }
      ]
    },
    {
      "cell_type": "code",
      "source": [
        "complex1 = 1 + 2j\n",
        "print(complex1.real)"
      ],
      "metadata": {
        "colab": {
          "base_uri": "https://localhost:8080/"
        },
        "id": "UgVANZ1QEUoE",
        "outputId": "579dedc6-61df-49e5-92b9-7212e1cc94ef"
      },
      "execution_count": null,
      "outputs": [
        {
          "output_type": "stream",
          "name": "stdout",
          "text": [
            "1.0\n"
          ]
        }
      ]
    },
    {
      "cell_type": "code",
      "source": [
        "complex1 = 1 + 2j\n",
        "print(complex1.imag)"
      ],
      "metadata": {
        "colab": {
          "base_uri": "https://localhost:8080/"
        },
        "id": "Kc0KpbuPEUqb",
        "outputId": "2580ccb3-d6d3-44be-f4bc-8f66ff72a04a"
      },
      "execution_count": null,
      "outputs": [
        {
          "output_type": "stream",
          "name": "stdout",
          "text": [
            "2.0\n"
          ]
        }
      ]
    },
    {
      "cell_type": "code",
      "source": [
        "string1 = 'Python'\n",
        "print(string1)\n",
        "print(type(string1))"
      ],
      "metadata": {
        "colab": {
          "base_uri": "https://localhost:8080/"
        },
        "id": "DU65sxacEUtI",
        "outputId": "ac555dd5-9894-424f-9c76-d277c3355fb1"
      },
      "execution_count": null,
      "outputs": [
        {
          "output_type": "stream",
          "name": "stdout",
          "text": [
            "Python\n",
            "<class 'str'>\n"
          ]
        }
      ]
    },
    {
      "cell_type": "code",
      "source": [
        "string1 = 'Python'\n",
        "print(string1[0])"
      ],
      "metadata": {
        "colab": {
          "base_uri": "https://localhost:8080/"
        },
        "id": "8PWoPYOVEUva",
        "outputId": "cdfa003a-0b30-4bc9-e2c9-accd79e21e49"
      },
      "execution_count": null,
      "outputs": [
        {
          "output_type": "stream",
          "name": "stdout",
          "text": [
            "P\n"
          ]
        }
      ]
    },
    {
      "cell_type": "code",
      "source": [
        "string1 = 'Python'\n",
        "print(string1[1])"
      ],
      "metadata": {
        "colab": {
          "base_uri": "https://localhost:8080/"
        },
        "id": "jA5fU83DEUyA",
        "outputId": "bea7743e-a7e5-41d4-86d6-952e9d28ee9e"
      },
      "execution_count": null,
      "outputs": [
        {
          "output_type": "stream",
          "name": "stdout",
          "text": [
            "y\n"
          ]
        }
      ]
    },
    {
      "cell_type": "code",
      "source": [
        "string1 = 'Python'\n",
        "print(string1[-1])"
      ],
      "metadata": {
        "colab": {
          "base_uri": "https://localhost:8080/"
        },
        "id": "3e3I_iW7EU0b",
        "outputId": "685c9e1f-6fa4-4e6a-d35f-b6a8d3482a00"
      },
      "execution_count": null,
      "outputs": [
        {
          "output_type": "stream",
          "name": "stdout",
          "text": [
            "n\n"
          ]
        }
      ]
    },
    {
      "cell_type": "code",
      "source": [
        "string1 = 'Python'\n",
        "print(string1[-2])"
      ],
      "metadata": {
        "colab": {
          "base_uri": "https://localhost:8080/"
        },
        "id": "Ftqji7-bEU2-",
        "outputId": "1b343eb4-0ee3-47e3-9126-97c3327f4399"
      },
      "execution_count": null,
      "outputs": [
        {
          "output_type": "stream",
          "name": "stdout",
          "text": [
            "o\n"
          ]
        }
      ]
    },
    {
      "cell_type": "code",
      "source": [
        "string1 = 'Python'\n",
        "print(string1[2])"
      ],
      "metadata": {
        "colab": {
          "base_uri": "https://localhost:8080/"
        },
        "id": "A8lm7XgrEU5W",
        "outputId": "5dfe0afe-0ef0-41cc-b7b1-7c6336ba2227"
      },
      "execution_count": null,
      "outputs": [
        {
          "output_type": "stream",
          "name": "stdout",
          "text": [
            "t\n"
          ]
        }
      ]
    },
    {
      "cell_type": "code",
      "source": [
        "string1 = 'Python'\n",
        "print(string1[-4])"
      ],
      "metadata": {
        "colab": {
          "base_uri": "https://localhost:8080/"
        },
        "id": "sFs0etD-EU78",
        "outputId": "f961760c-7212-4ad2-e1b8-cf80571edeb8"
      },
      "execution_count": null,
      "outputs": [
        {
          "output_type": "stream",
          "name": "stdout",
          "text": [
            "t\n"
          ]
        }
      ]
    },
    {
      "cell_type": "code",
      "source": [
        "string1 = 'Python'\n",
        "print(string1[-4:-1])"
      ],
      "metadata": {
        "colab": {
          "base_uri": "https://localhost:8080/"
        },
        "id": "VrKViFhkEU-g",
        "outputId": "93547850-9e25-485f-fbdc-08a6ce0df2cd"
      },
      "execution_count": null,
      "outputs": [
        {
          "output_type": "stream",
          "name": "stdout",
          "text": [
            "tho\n"
          ]
        }
      ]
    },
    {
      "cell_type": "code",
      "source": [
        "string1 = 'Python'\n",
        "print(string1[-6:5])"
      ],
      "metadata": {
        "colab": {
          "base_uri": "https://localhost:8080/"
        },
        "id": "6A8dl3ybEVA-",
        "outputId": "7eac7079-e933-4b12-9d57-89d26b2bb336"
      },
      "execution_count": null,
      "outputs": [
        {
          "output_type": "stream",
          "name": "stdout",
          "text": [
            "Pytho\n"
          ]
        }
      ]
    },
    {
      "cell_type": "code",
      "source": [
        "string1 = 'Python'\n",
        "print(string1[:5])"
      ],
      "metadata": {
        "colab": {
          "base_uri": "https://localhost:8080/"
        },
        "id": "_0oCWWGdE7_S",
        "outputId": "0fa3f794-3f32-491f-de15-e932fc9d4547"
      },
      "execution_count": null,
      "outputs": [
        {
          "output_type": "stream",
          "name": "stdout",
          "text": [
            "Pytho\n"
          ]
        }
      ]
    },
    {
      "cell_type": "code",
      "source": [
        "string1 = 'Python'\n",
        "print(string1[1:4])"
      ],
      "metadata": {
        "colab": {
          "base_uri": "https://localhost:8080/"
        },
        "id": "8E_tGVJwE8E6",
        "outputId": "76f08db7-6176-4d78-c798-3bd24bdb04f6"
      },
      "execution_count": null,
      "outputs": [
        {
          "output_type": "stream",
          "name": "stdout",
          "text": [
            "yth\n"
          ]
        }
      ]
    },
    {
      "cell_type": "code",
      "source": [
        "sentence = input('Please insert sentence: ')\n",
        "print(sentence.split(' '))"
      ],
      "metadata": {
        "colab": {
          "base_uri": "https://localhost:8080/"
        },
        "id": "uyoKmUGME8IW",
        "outputId": "66bb29f4-bcfd-49e5-8d34-3f0b54dab5c5"
      },
      "execution_count": null,
      "outputs": [
        {
          "output_type": "stream",
          "name": "stdout",
          "text": [
            "Please insert sentence: Hello World!\n",
            "['Hello', 'World!']\n"
          ]
        }
      ]
    },
    {
      "cell_type": "code",
      "source": [
        "string1 = input('Please insert string1: ')\n",
        "string2 = string1.replace('a', 'A')\n",
        "print(string2)"
      ],
      "metadata": {
        "colab": {
          "base_uri": "https://localhost:8080/"
        },
        "id": "Y3geXWx9E8K9",
        "outputId": "0990d3a5-d827-4633-c82f-570b8088b346"
      },
      "execution_count": null,
      "outputs": [
        {
          "output_type": "stream",
          "name": "stdout",
          "text": [
            "Please insert string1: saharat\n",
            "sAhArAt\n"
          ]
        }
      ]
    },
    {
      "cell_type": "code",
      "source": [
        "string1 = input('Please insert string1: ')\n",
        "print(string1.replace('a', 'A'))"
      ],
      "metadata": {
        "colab": {
          "base_uri": "https://localhost:8080/"
        },
        "id": "C4S7fY7_E8Nf",
        "outputId": "96fc55e2-6298-4713-ff26-8e4e010c23ed"
      },
      "execution_count": null,
      "outputs": [
        {
          "output_type": "stream",
          "name": "stdout",
          "text": [
            "Please insert string1: intavira\n",
            "intAvirA\n"
          ]
        }
      ]
    },
    {
      "cell_type": "code",
      "source": [
        "string1 = input('Please insert string1: ')\n",
        "print('a' in string1)"
      ],
      "metadata": {
        "colab": {
          "base_uri": "https://localhost:8080/"
        },
        "id": "AaaOYslSE8P_",
        "outputId": "488f1d18-b9aa-423c-cc4a-3d3661f1d790"
      },
      "execution_count": null,
      "outputs": [
        {
          "output_type": "stream",
          "name": "stdout",
          "text": [
            "Please insert string1: somtui\n",
            "False\n"
          ]
        }
      ]
    },
    {
      "cell_type": "code",
      "source": [
        "str1 = input('Please insert str1: ')\n",
        "str2 = input('Please insert str2: ')\n",
        "print(str1 + str2)"
      ],
      "metadata": {
        "colab": {
          "base_uri": "https://localhost:8080/"
        },
        "id": "4N1o9i27E8Sn",
        "outputId": "e1344261-f60b-44e6-f910-67eb3f0274c3"
      },
      "execution_count": null,
      "outputs": [
        {
          "output_type": "stream",
          "name": "stdout",
          "text": [
            "Please insert str1: Saharat\n",
            "Please insert str2: Intavira\n",
            "SaharatIntavira\n"
          ]
        }
      ]
    },
    {
      "cell_type": "code",
      "source": [
        "list1 = [0, 1, 2, 'a', 'b', 'c']\n",
        "print(list1)\n",
        "print(type(list1))"
      ],
      "metadata": {
        "colab": {
          "base_uri": "https://localhost:8080/"
        },
        "id": "E5JMlqdME8VA",
        "outputId": "b4b7ae10-8a12-4cb9-92f9-16e8a7dfc49e"
      },
      "execution_count": null,
      "outputs": [
        {
          "output_type": "stream",
          "name": "stdout",
          "text": [
            "[0, 1, 2, 'a', 'b', 'c']\n",
            "<class 'list'>\n"
          ]
        }
      ]
    },
    {
      "cell_type": "code",
      "source": [
        "list1 = [0, 1, 2, 'a', 'b', 'c']\n",
        "print(list1[2])"
      ],
      "metadata": {
        "colab": {
          "base_uri": "https://localhost:8080/"
        },
        "id": "PShT4BYZE8Xo",
        "outputId": "9ab36087-54f5-4f5e-a0df-b45576901c6b"
      },
      "execution_count": null,
      "outputs": [
        {
          "output_type": "stream",
          "name": "stdout",
          "text": [
            "2\n"
          ]
        }
      ]
    },
    {
      "cell_type": "code",
      "source": [
        "list1 = [0, 1, 2, 'a', 'b', 'c']\n",
        "print(list1[1:-1])"
      ],
      "metadata": {
        "colab": {
          "base_uri": "https://localhost:8080/"
        },
        "id": "rCeyHIXIE8bJ",
        "outputId": "68388f14-7560-437c-f9cd-5437784e7f83"
      },
      "execution_count": null,
      "outputs": [
        {
          "output_type": "stream",
          "name": "stdout",
          "text": [
            "[1, 2, 'a', 'b']\n"
          ]
        }
      ]
    },
    {
      "cell_type": "code",
      "source": [
        "list1 = [0, 1, 2, 'a', 'b', 'c']\n",
        "print(list1[2:4])"
      ],
      "metadata": {
        "colab": {
          "base_uri": "https://localhost:8080/"
        },
        "id": "T1iHm7hiFNdT",
        "outputId": "e5bc9104-a509-495d-d41e-7ac469ee6074"
      },
      "execution_count": null,
      "outputs": [
        {
          "output_type": "stream",
          "name": "stdout",
          "text": [
            "[2, 'a']\n"
          ]
        }
      ]
    },
    {
      "cell_type": "code",
      "source": [
        "list1 = [0, 1, 2, 'a', 'b', 'c']\n",
        "print(list1[-5:5])"
      ],
      "metadata": {
        "colab": {
          "base_uri": "https://localhost:8080/"
        },
        "id": "UspQqQ3uFNkd",
        "outputId": "39c83f63-110c-467d-f755-99a7f4241e3b"
      },
      "execution_count": null,
      "outputs": [
        {
          "output_type": "stream",
          "name": "stdout",
          "text": [
            "[1, 2, 'a', 'b']\n"
          ]
        }
      ]
    },
    {
      "cell_type": "code",
      "source": [
        "list2 = ['ant', 'bird', 'cat', 'dog', 'eagle']\n",
        "list2[3] = 'duck'\n",
        "print(list2)"
      ],
      "metadata": {
        "colab": {
          "base_uri": "https://localhost:8080/"
        },
        "id": "9oCc8PvpFNnF",
        "outputId": "0a4e45a6-a130-4aa3-d7cf-5714acdd50d1"
      },
      "execution_count": null,
      "outputs": [
        {
          "output_type": "stream",
          "name": "stdout",
          "text": [
            "['ant', 'bird', 'cat', 'duck', 'eagle']\n"
          ]
        }
      ]
    },
    {
      "cell_type": "code",
      "source": [
        "list2 = ['ant', 'bird', 'cat', 'dog', 'eagle']\n",
        "list2[-5] = 'ape'\n",
        "print(list2)"
      ],
      "metadata": {
        "colab": {
          "base_uri": "https://localhost:8080/"
        },
        "id": "UupgTG9jFNp5",
        "outputId": "35b0d8a9-6db5-4382-b750-ac0556aad476"
      },
      "execution_count": null,
      "outputs": [
        {
          "output_type": "stream",
          "name": "stdout",
          "text": [
            "['ape', 'bird', 'cat', 'dog', 'eagle']\n"
          ]
        }
      ]
    },
    {
      "cell_type": "code",
      "source": [
        "list2 = ['ant', 'bird', 'cat', 'dog', 'eagle']\n",
        "list2.append('fish')\n",
        "print(list2)"
      ],
      "metadata": {
        "colab": {
          "base_uri": "https://localhost:8080/"
        },
        "id": "LzPlTnEIFNse",
        "outputId": "378ad91f-ac34-44f7-c026-cc94135c9581"
      },
      "execution_count": null,
      "outputs": [
        {
          "output_type": "stream",
          "name": "stdout",
          "text": [
            "['ant', 'bird', 'cat', 'dog', 'eagle', 'fish']\n"
          ]
        }
      ]
    },
    {
      "cell_type": "code",
      "source": [
        "list2 = []\n",
        "str1 = input('Please insert first element: ')\n",
        "str2 = input('Please insert second element: ')\n",
        "str3 = input('Please insert third element: ')\n",
        "list2.append(str1)\n",
        "list2.append(str2)\n",
        "list2.append(str3)\n",
        "print(list2)"
      ],
      "metadata": {
        "colab": {
          "base_uri": "https://localhost:8080/"
        },
        "id": "zw4nkBpXFb55",
        "outputId": "a21d535e-4094-4a3e-a54f-7764d2c00379"
      },
      "execution_count": null,
      "outputs": [
        {
          "output_type": "stream",
          "name": "stdout",
          "text": [
            "Please insert first element: H\n",
            "Please insert second element: Li\n",
            "Please insert third element: Na\n",
            "['H', 'Li', 'Na']\n"
          ]
        }
      ]
    },
    {
      "cell_type": "code",
      "source": [
        "list3 = ['apple', 'banana', 'cherry', 'eggfruit']\n",
        "list3.insert(-1, 'kiwi')\n",
        "print(list3)"
      ],
      "metadata": {
        "colab": {
          "base_uri": "https://localhost:8080/"
        },
        "id": "iy09nbWeFNvt",
        "outputId": "e3c51c1f-c31e-4ff9-89f9-b93271b78088"
      },
      "execution_count": null,
      "outputs": [
        {
          "output_type": "stream",
          "name": "stdout",
          "text": [
            "['apple', 'banana', 'cherry', 'kiwi', 'eggfruit']\n"
          ]
        }
      ]
    },
    {
      "cell_type": "code",
      "source": [
        "list3 = ['apple', 'cherry', 'eggfruit']\n",
        "list3.insert(1, 'banana')\n",
        "print(list3)"
      ],
      "metadata": {
        "colab": {
          "base_uri": "https://localhost:8080/"
        },
        "id": "VV2YEvKbFkHU",
        "outputId": "780a09d2-fb39-4afc-95a0-76178c0edc1a"
      },
      "execution_count": null,
      "outputs": [
        {
          "output_type": "stream",
          "name": "stdout",
          "text": [
            "['apple', 'banana', 'cherry', 'eggfruit']\n"
          ]
        }
      ]
    },
    {
      "cell_type": "code",
      "source": [
        "list4 = [0, 4, 2, 3, 1]\n",
        "list4.sort()\n",
        "print(list4)"
      ],
      "metadata": {
        "colab": {
          "base_uri": "https://localhost:8080/"
        },
        "id": "H9rHESMeFkKP",
        "outputId": "bc058898-8a1a-401c-9887-d0dc0a64e13b"
      },
      "execution_count": null,
      "outputs": [
        {
          "output_type": "stream",
          "name": "stdout",
          "text": [
            "[0, 1, 2, 3, 4]\n"
          ]
        }
      ]
    },
    {
      "cell_type": "code",
      "source": [
        "list4 = [0, 4, 2, 3, 1]\n",
        "list4.sort(reverse=True)\n",
        "print(list4)"
      ],
      "metadata": {
        "colab": {
          "base_uri": "https://localhost:8080/"
        },
        "id": "sp-LgEJOFkNZ",
        "outputId": "989eaccb-4753-4303-ed14-d7317512f265"
      },
      "execution_count": null,
      "outputs": [
        {
          "output_type": "stream",
          "name": "stdout",
          "text": [
            "[4, 3, 2, 1, 0]\n"
          ]
        }
      ]
    },
    {
      "cell_type": "code",
      "source": [
        "list4 = [0, 4, 2, 3, 1]\n",
        "sorted_list4 = sorted(list4)\n",
        "print(sorted_list4)"
      ],
      "metadata": {
        "colab": {
          "base_uri": "https://localhost:8080/"
        },
        "id": "od7FCgWxFkP3",
        "outputId": "051cf974-a6d5-462b-dec1-81b52dba6c00"
      },
      "execution_count": null,
      "outputs": [
        {
          "output_type": "stream",
          "name": "stdout",
          "text": [
            "[0, 1, 2, 3, 4]\n"
          ]
        }
      ]
    },
    {
      "cell_type": "code",
      "source": [
        "list1 = [1, 2, 3, 1, 2, 3]\n",
        "list1.remove(1)\n",
        "print(list1)"
      ],
      "metadata": {
        "colab": {
          "base_uri": "https://localhost:8080/"
        },
        "id": "3arducY3FkSP",
        "outputId": "8b63b01c-c92c-4a1a-bee6-7027db9c5b7b"
      },
      "execution_count": null,
      "outputs": [
        {
          "output_type": "stream",
          "name": "stdout",
          "text": [
            "[2, 3, 1, 2, 3]\n"
          ]
        }
      ]
    },
    {
      "cell_type": "code",
      "source": [
        "a = 0  # ตัวแปรเก็บจำนวนที่หารด้วย 3 ลงตัว\n",
        "\n",
        "# วนลูปเช็คตัวเลขตั้งแต่ 1 ถึง 10000\n",
        "for i in range(1, 10001):\n",
        "  # ตรวจสอบว่าจำนวนนั้นหารด้วย 3 ลงตัวหรือไม่\n",
        "  if i % 3 == 0:\n",
        "    # เพิ่มจำนวนที่หารด้วย 3 ลงตัว\n",
        "    a += 1\n",
        "\n",
        "# แสดงผลลัพธ์\n",
        "print(\"จำนวนที่หารด้วย 3 ลงตัวระหว่าง 1 ถึง 10000 มี\", a, \"จำนวน\")\n"
      ],
      "metadata": {
        "colab": {
          "base_uri": "https://localhost:8080/"
        },
        "id": "sxFyv4H1FkUu",
        "outputId": "89559627-8fb7-44ea-a5c9-85a05687e1ff"
      },
      "execution_count": null,
      "outputs": [
        {
          "output_type": "stream",
          "name": "stdout",
          "text": [
            "จำนวนที่หารด้วย 3 ลงตัวระหว่าง 1 ถึง 10000 มี 3333 จำนวน\n"
          ]
        }
      ]
    },
    {
      "cell_type": "code",
      "source": [
        "a = 0  # ตัวแปรเก็บจำนวนที่หารด้วย 5 ลงตัว\n",
        "\n",
        "# วนลูปเช็คตัวเลขตั้งแต่ 1 ถึง 10000\n",
        "for i in range(1, 10001):\n",
        "  # ตรวจสอบว่าจำนวนนั้นหารด้วย 5 ลงตัวหรือไม่\n",
        "  if i % 5 == 0:\n",
        "    # เพิ่มจำนวนที่หารด้วย 5 ลงตัว\n",
        "    a += 1\n",
        "\n",
        "# แสดงผลลัพธ์\n",
        "print(\"จำนวนที่หารด้วย 5 ลงตัวระหว่าง 1 ถึง 10000 มี\", a, \"จำนวน\")\n"
      ],
      "metadata": {
        "colab": {
          "base_uri": "https://localhost:8080/"
        },
        "id": "0HptImElFkXX",
        "outputId": "80df47b2-b493-492b-8c8d-c289969c6752"
      },
      "execution_count": null,
      "outputs": [
        {
          "output_type": "stream",
          "name": "stdout",
          "text": [
            "จำนวนที่หารด้วย 5 ลงตัวระหว่าง 1 ถึง 10000 มี 2000 จำนวน\n"
          ]
        }
      ]
    },
    {
      "source": [
        "value = 0  # ตัวแปรเก็บจำนวนที่หารด้วย 3 และ 5 ลงตัว\n",
        "\n",
        "# วนลูปเช็คตัวเลขตั้งแต่ 1 ถึง 10000\n",
        "for i in range(1, 10001):\n",
        "  # ตรวจสอบว่าจำนวนนั้นหารด้วย 3 และ 5 ลงตัวหรือไม่\n",
        "  if ( i % 3 == 0) and (i % 5 == 0): # Use 'i' instead of 'จำนวน' here\n",
        "    # เพิ่มจำนวนที่หารด้วย 3 และ 5 ลงตัว\n",
        "    value += 1\n",
        "\n",
        "# แสดงผลลัพธ์\n",
        "print(\"จำนวนที่หารด้วย 3 และ 5 ลงตัวระหว่าง 1 ถึง 10000 มี\", value, \"จำนวน\")"
      ],
      "cell_type": "code",
      "metadata": {
        "colab": {
          "base_uri": "https://localhost:8080/"
        },
        "id": "-q96uZCrHLdr",
        "outputId": "4f28210e-4c57-4083-f796-b48eb9a4b8c4"
      },
      "execution_count": null,
      "outputs": [
        {
          "output_type": "stream",
          "name": "stdout",
          "text": [
            "จำนวนที่หารด้วย 3 และ 5 ลงตัวระหว่าง 1 ถึง 10000 มี 666 จำนวน\n"
          ]
        }
      ]
    },
    {
      "cell_type": "code",
      "source": [
        "# ฟังก์ชั่นเพื่อหาจำนวนที่หารด้วย 3 หรือ 5 ลงตัว\n",
        "def count_numbers_divisible_by_3_or_5():\n",
        "    count = 0  # ตัวแปรเพื่อเก็บจำนวนที่หารด้วย 3 หรือ 5 ลงตัว\n",
        "    for i in range(1, 10001):  # วนลูปตั้งแต่ 1 ถึง 10000\n",
        "        if i % 3 == 0 or i % 5 == 0:  # ตรวจสอบว่าหารด้วย 3 หรือ 5 ลงตัว\n",
        "            count += 1  # ถ้าหารลงตัว ให้เพิ่มจำนวนครั้ง\n",
        "    return count  # คืนค่าจำนวนที่นับได้\n",
        "\n",
        "# เรียกใช้ฟังก์ชั่นและแสดงผลลัพธ์\n",
        "result = count_numbers_divisible_by_3_or_5()\n",
        "print(f\"จำนวนที่หารด้วย 3 หรือ 5 ลงตัวที่อยู่ระหว่าง 1 และ 10000 มีทั้งหมด {result} จำนวน\")\n"
      ],
      "metadata": {
        "colab": {
          "base_uri": "https://localhost:8080/"
        },
        "id": "Q1JCUm3tFkeZ",
        "outputId": "3654ea40-8808-49a9-e5a4-73ebd12662ee"
      },
      "execution_count": null,
      "outputs": [
        {
          "output_type": "stream",
          "name": "stdout",
          "text": [
            "จำนวนที่หารด้วย 3 หรือ 5 ลงตัวที่อยู่ระหว่าง 1 และ 10000 มีทั้งหมด 4667 จำนวน\n"
          ]
        }
      ]
    },
    {
      "cell_type": "code",
      "source": [
        "a = 0  # ตัวแปรเก็บจำนวนที่หารด้วย 3, 5 และ 7 ลงตัว\n",
        "\n",
        "# วนลูปเช็คตัวเลขตั้งแต่ 1 ถึง 10000\n",
        "for จำนวน in range(1, 10001):\n",
        "  # ตรวจสอบว่าจำนวนนั้นหารด้วย 3, 5 และ 7 ลงตัวหรือไม่\n",
        "  if (จำนวน % 3 == 0) and (จำนวน % 5 == 0) and (จำนวน % 7 == 0):\n",
        "    # เพิ่มจำนวนที่หารด้วย 3, 5 และ 7 ลงตัว\n",
        "    a += 1\n",
        "\n",
        "# แสดงผลลัพธ์\n",
        "print(\"จำนวนที่หารด้วย 3, 5 และ 7 ลงตัวระหว่าง 1 ถึง 10000 มี\", a, \"จำนวน\")\n"
      ],
      "metadata": {
        "colab": {
          "base_uri": "https://localhost:8080/"
        },
        "id": "JuxRvnsyFklJ",
        "outputId": "b8445690-997f-448f-d13b-751b5ce8f96a"
      },
      "execution_count": null,
      "outputs": [
        {
          "output_type": "stream",
          "name": "stdout",
          "text": [
            "จำนวนที่หารด้วย 3, 5 และ 7 ลงตัวระหว่าง 1 ถึง 10000 มี 95 จำนวน\n"
          ]
        }
      ]
    },
    {
      "cell_type": "code",
      "source": [
        "# ฟังก์ชั่นเพื่อหาจำนวนที่หารด้วย 3, 5 หรือ 7 ลงตัว\n",
        "def count_numbers_divisible_by_3_5_or_7():\n",
        "    count = 0  # ตัวแปรเพื่อเก็บจำนวนที่หารด้วย 3, 5 หรือ 7 ลงตัว\n",
        "    for i in range(1, 10001):  # วนลูปตั้งแต่ 1 ถึง 10000\n",
        "        if i % 3 == 0 or i % 5 == 0 or i % 7 == 0:  # ตรวจสอบว่าหารด้วย 3, 5 หรือ 7 ลงตัว\n",
        "            count += 1  # ถ้าหารลงตัว ให้เพิ่มจำนวนครั้ง\n",
        "    return count  # คืนค่าจำนวนที่นับได้\n",
        "\n",
        "# เรียกใช้ฟังก์ชั่นและแสดงผลลัพธ์\n",
        "result = count_numbers_divisible_by_3_5_or_7()\n",
        "print(f\"จำนวนที่หารด้วย 3, 5 หรือ 7 ลงตัวที่อยู่ระหว่าง 1 และ 10000 มีทั้งหมด {result} จำนวน\")\n"
      ],
      "metadata": {
        "colab": {
          "base_uri": "https://localhost:8080/"
        },
        "id": "PnCT06YyZUrq",
        "outputId": "a6bdc778-9fb6-486c-cd4e-a801ccb30e35"
      },
      "execution_count": null,
      "outputs": [
        {
          "output_type": "stream",
          "name": "stdout",
          "text": [
            "จำนวนที่หารด้วย 3, 5 หรือ 7 ลงตัวที่อยู่ระหว่าง 1 และ 10000 มีทั้งหมด 5429 จำนวน\n"
          ]
        }
      ]
    },
    {
      "cell_type": "code",
      "source": [
        "# ฟังก์ชั่นเพื่อหาผลรวมของจำนวนที่หารด้วย 3 ลงตัว\n",
        "def sum_numbers_divisible_by_3():\n",
        "    total_sum = 0  # ตัวแปรเพื่อเก็บผลรวมของจำนวนที่หารด้วย 3 ลงตัว\n",
        "    for i in range(1, 10001):  # วนลูปตั้งแต่ 1 ถึง 10000\n",
        "        if i % 3 == 0:  # ตรวจสอบว่าหารด้วย 3 ลงตัว\n",
        "            total_sum += i  # ถ้าหารลงตัว ให้เพิ่มจำนวนครั้งนั้นลงในผลรวม\n",
        "    return total_sum  # คืนค่าผลรวมที่ได้\n",
        "\n",
        "# เรียกใช้ฟังก์ชั่นและแสดงผลลัพธ์\n",
        "result = sum_numbers_divisible_by_3()\n",
        "print(f\"ผลรวมของจำนวนที่หารด้วย 3 ลงตัวที่อยู่ระหว่าง 1 และ 10000 มีทั้งหมด {result}\")\n"
      ],
      "metadata": {
        "colab": {
          "base_uri": "https://localhost:8080/"
        },
        "id": "hqF2xiQsZxvI",
        "outputId": "9aaea470-3415-4993-e6c7-e35f5ffa9375"
      },
      "execution_count": null,
      "outputs": [
        {
          "output_type": "stream",
          "name": "stdout",
          "text": [
            "ผลรวมของจำนวนที่หารด้วย 3 ลงตัวที่อยู่ระหว่าง 1 และ 10000 มีทั้งหมด 16668333\n"
          ]
        }
      ]
    },
    {
      "cell_type": "code",
      "source": [
        "# ฟังก์ชั่นเพื่อหาผลรวมของจำนวนที่หารด้วย 5 ลงตัว\n",
        "def sum_numbers_divisible_by_5():\n",
        "    total_sum = 0  # ตัวแปรเพื่อเก็บผลรวมของจำนวนที่หารด้วย 5 ลงตัว\n",
        "    for i in range(1, 10001):  # วนลูปตั้งแต่ 1 ถึง 10000\n",
        "        if i % 5 == 0:  # ตรวจสอบว่าหารด้วย 5 ลงตัว\n",
        "            total_sum += i  # ถ้าหารลงตัว ให้เพิ่มจำนวนครั้งนั้นลงในผลรวม\n",
        "    return total_sum  # คืนค่าผลรวมที่ได้\n",
        "\n",
        "# เรียกใช้ฟังก์ชั่นและแสดงผลลัพธ์\n",
        "result = sum_numbers_divisible_by_5()\n",
        "print(f\"ผลรวมของจำนวนที่หารด้วย 5 ลงตัวที่อยู่ระหว่าง 1 และ 10000 มีทั้งหมด {result}\")\n"
      ],
      "metadata": {
        "colab": {
          "base_uri": "https://localhost:8080/"
        },
        "id": "OYmjFwCAaMBl",
        "outputId": "f58380c3-bedc-4396-9867-aa6962119658"
      },
      "execution_count": null,
      "outputs": [
        {
          "output_type": "stream",
          "name": "stdout",
          "text": [
            "ผลรวมของจำนวนที่หารด้วย 5 ลงตัวที่อยู่ระหว่าง 1 และ 10000 มีทั้งหมด 10005000\n"
          ]
        }
      ]
    },
    {
      "cell_type": "code",
      "source": [
        "# ฟังก์ชั่นเพื่อหาผลรวมของจำนวนที่หารด้วย 3 และ 5 ลงตัว\n",
        "def sum_numbers_divisible_by_3_and_5():\n",
        "    total_sum = 0  # ตัวแปรเพื่อเก็บผลรวมของจำนวนที่หารด้วย 3 และ 5 ลงตัว\n",
        "    for i in range(1, 10001):  # วนลูปตั้งแต่ 1 ถึง 10000\n",
        "        if i % 3 == 0 and i % 5 == 0:  # ตรวจสอบว่าหารด้วย 3 และ 5 ลงตัว\n",
        "            total_sum += i  # ถ้าหารลงตัว ให้เพิ่มจำนวนครั้งนั้นลงในผลรวม\n",
        "    return total_sum  # คืนค่าผลรวมที่ได้\n",
        "\n",
        "# เรียกใช้ฟังก์ชั่นและแสดงผลลัพธ์\n",
        "result = sum_numbers_divisible_by_3_and_5()\n",
        "print(f\"ผลรวมของจำนวนที่หารด้วย 3 และ 5 ลงตัวที่อยู่ระหว่าง 1 และ 10000 มีทั้งหมด {result}\")\n"
      ],
      "metadata": {
        "colab": {
          "base_uri": "https://localhost:8080/"
        },
        "id": "kX6b99FZabbo",
        "outputId": "4df77bcc-5d72-4f25-a0ea-6d0a70898e91"
      },
      "execution_count": null,
      "outputs": [
        {
          "output_type": "stream",
          "name": "stdout",
          "text": [
            "ผลรวมของจำนวนที่หารด้วย 3 และ 5 ลงตัวที่อยู่ระหว่าง 1 และ 10000 มีทั้งหมด 3331665\n"
          ]
        }
      ]
    },
    {
      "cell_type": "code",
      "source": [
        "# ฟังก์ชั่นเพื่อหาผลรวมของจำนวนที่หารด้วย 3 หรือ 5 ลงตัว\n",
        "def sum_numbers_divisible_by_3_or_5():\n",
        "    total_sum = 0  # ตัวแปรเพื่อเก็บผลรวมของจำนวนที่หารด้วย 3 หรือ 5 ลงตัว\n",
        "    for i in range(1, 10001):  # วนลูปตั้งแต่ 1 ถึง 10000\n",
        "        if i % 3 == 0 or i % 5 == 0:  # ตรวจสอบว่าหารด้วย 3 หรือ 5 ลงตัว\n",
        "            total_sum += i  # ถ้าหารลงตัว ให้เพิ่มจำนวนครั้งนั้นลงในผลรวม\n",
        "    return total_sum  # คืนค่าผลรวมที่ได้\n",
        "\n",
        "# เรียกใช้ฟังก์ชั่นและแสดงผลลัพธ์\n",
        "result = sum_numbers_divisible_by_3_or_5()\n",
        "print(f\"ผลรวมของจำนวนที่หารด้วย 3 หรือ 5 ลงตัวที่อยู่ระหว่าง 1 และ 10000 มีทั้งหมด {result}\")\n"
      ],
      "metadata": {
        "colab": {
          "base_uri": "https://localhost:8080/"
        },
        "id": "3uwEJbfMa9fh",
        "outputId": "b9ec4c09-6f25-4323-f642-7298f6116195"
      },
      "execution_count": null,
      "outputs": [
        {
          "output_type": "stream",
          "name": "stdout",
          "text": [
            "ผลรวมของจำนวนที่หารด้วย 3 หรือ 5 ลงตัวที่อยู่ระหว่าง 1 และ 10000 มีทั้งหมด 23341668\n"
          ]
        }
      ]
    },
    {
      "cell_type": "code",
      "source": [
        "# ฟังก์ชั่นเพื่อหาผลรวมของจำนวนที่หารด้วย 3, 5 และ 7 ลงตัว\n",
        "def sum_numbers_divisible_by_3_5_and_7():\n",
        "    total_sum = 0  # ตัวแปรเพื่อเก็บผลรวมของจำนวนที่หารด้วย 3, 5 และ 7 ลงตัว\n",
        "    for i in range(1, 10001):  # วนลูปตั้งแต่ 1 ถึง 10000\n",
        "        if i % 3 == 0 and i % 5 == 0 and i % 7 == 0:  # ตรวจสอบว่าหารด้วย 3, 5 และ 7 ลงตัว\n",
        "            total_sum += i  # ถ้าหารลงตัว ให้เพิ่มจำนวนครั้งนั้นลงในผลรวม\n",
        "    return total_sum  # คืนค่าผลรวมที่ได้\n",
        "\n",
        "# เรียกใช้ฟังก์ชั่นและแสดงผลลัพธ์\n",
        "result = sum_numbers_divisible_by_3_5_and_7()\n",
        "print(f\"ผลรวมของจำนวนที่หารด้วย 3, 5 และ 7 ลงตัวที่อยู่ระหว่าง 1 และ 10000 มีทั้งหมด {result}\")\n"
      ],
      "metadata": {
        "colab": {
          "base_uri": "https://localhost:8080/"
        },
        "id": "1gHh038UbMzi",
        "outputId": "ce784f3a-b9a2-4f4f-d188-1863b0bbc280"
      },
      "execution_count": null,
      "outputs": [
        {
          "output_type": "stream",
          "name": "stdout",
          "text": [
            "ผลรวมของจำนวนที่หารด้วย 3, 5 และ 7 ลงตัวที่อยู่ระหว่าง 1 และ 10000 มีทั้งหมด 478800\n"
          ]
        }
      ]
    },
    {
      "cell_type": "code",
      "source": [
        "def sum_divisible_by_357():\n",
        "    total_sum = 0\n",
        "    for number in range(1, 10001):\n",
        "        if number % 3 == 0 or number % 5 == 0 or number % 7 == 0:\n",
        "            total_sum += number\n",
        "    return total_sum\n",
        "\n",
        "result = sum_divisible_by_357()\n",
        "print(f\"The sum of numbers divisible by 3, 5, or 7 between 1 and 10000 is: {result}\")\n"
      ],
      "metadata": {
        "colab": {
          "base_uri": "https://localhost:8080/"
        },
        "id": "_B_S6B2QbzKY",
        "outputId": "fe40854a-557b-4b4b-fdec-7539be5e9b62"
      },
      "execution_count": null,
      "outputs": [
        {
          "output_type": "stream",
          "name": "stdout",
          "text": [
            "The sum of numbers divisible by 3, 5, or 7 between 1 and 10000 is: 27152139\n"
          ]
        }
      ]
    }
  ]
}